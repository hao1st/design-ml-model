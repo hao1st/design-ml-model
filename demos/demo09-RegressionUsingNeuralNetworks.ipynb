{
 "cells": [
  {
   "cell_type": "markdown",
   "metadata": {},
   "source": [
    "### Importing libraries"
   ]
  },
  {
   "cell_type": "code",
   "metadata": {
    "ExecuteTime": {
     "end_time": "2025-01-15T03:34:35.710922Z",
     "start_time": "2025-01-15T03:34:34.697255Z"
    }
   },
   "source": [
    "import pandas as pd\n",
    "import matplotlib.pyplot as plt"
   ],
   "outputs": [],
   "execution_count": 6
  },
  {
   "cell_type": "markdown",
   "metadata": {},
   "source": [
    "### Loading dataset"
   ]
  },
  {
   "cell_type": "code",
   "metadata": {
    "ExecuteTime": {
     "end_time": "2025-01-15T03:43:53.195075Z",
     "start_time": "2025-01-15T03:43:53.145882Z"
    }
   },
   "source": [
    "advertising_data = pd.read_csv('dataset/Advertising.csv', index_col=0)\n",
    "advertising_data.sample(10)"
   ],
   "outputs": [
    {
     "data": {
      "text/plain": [
       "        TV  radio  newspaper  sales\n",
       "8    120.2   19.6       11.6   13.2\n",
       "148  243.2   49.0       44.3   25.4\n",
       "84    68.4   44.5       35.6   13.6\n",
       "144  104.6    5.7       34.4   10.4\n",
       "122   18.8   21.7       50.4    7.0\n",
       "59   210.8   49.6       37.7   23.8\n",
       "194  166.8   42.0        3.6   19.6\n",
       "28   240.1   16.7       22.9   15.9\n",
       "70   216.8   43.9       27.2   22.3\n",
       "69   237.4   27.5       11.0   18.9"
      ],
      "text/html": [
       "<div>\n",
       "<style scoped>\n",
       "    .dataframe tbody tr th:only-of-type {\n",
       "        vertical-align: middle;\n",
       "    }\n",
       "\n",
       "    .dataframe tbody tr th {\n",
       "        vertical-align: top;\n",
       "    }\n",
       "\n",
       "    .dataframe thead th {\n",
       "        text-align: right;\n",
       "    }\n",
       "</style>\n",
       "<table border=\"1\" class=\"dataframe\">\n",
       "  <thead>\n",
       "    <tr style=\"text-align: right;\">\n",
       "      <th></th>\n",
       "      <th>TV</th>\n",
       "      <th>radio</th>\n",
       "      <th>newspaper</th>\n",
       "      <th>sales</th>\n",
       "    </tr>\n",
       "  </thead>\n",
       "  <tbody>\n",
       "    <tr>\n",
       "      <th>8</th>\n",
       "      <td>120.2</td>\n",
       "      <td>19.6</td>\n",
       "      <td>11.6</td>\n",
       "      <td>13.2</td>\n",
       "    </tr>\n",
       "    <tr>\n",
       "      <th>148</th>\n",
       "      <td>243.2</td>\n",
       "      <td>49.0</td>\n",
       "      <td>44.3</td>\n",
       "      <td>25.4</td>\n",
       "    </tr>\n",
       "    <tr>\n",
       "      <th>84</th>\n",
       "      <td>68.4</td>\n",
       "      <td>44.5</td>\n",
       "      <td>35.6</td>\n",
       "      <td>13.6</td>\n",
       "    </tr>\n",
       "    <tr>\n",
       "      <th>144</th>\n",
       "      <td>104.6</td>\n",
       "      <td>5.7</td>\n",
       "      <td>34.4</td>\n",
       "      <td>10.4</td>\n",
       "    </tr>\n",
       "    <tr>\n",
       "      <th>122</th>\n",
       "      <td>18.8</td>\n",
       "      <td>21.7</td>\n",
       "      <td>50.4</td>\n",
       "      <td>7.0</td>\n",
       "    </tr>\n",
       "    <tr>\n",
       "      <th>59</th>\n",
       "      <td>210.8</td>\n",
       "      <td>49.6</td>\n",
       "      <td>37.7</td>\n",
       "      <td>23.8</td>\n",
       "    </tr>\n",
       "    <tr>\n",
       "      <th>194</th>\n",
       "      <td>166.8</td>\n",
       "      <td>42.0</td>\n",
       "      <td>3.6</td>\n",
       "      <td>19.6</td>\n",
       "    </tr>\n",
       "    <tr>\n",
       "      <th>28</th>\n",
       "      <td>240.1</td>\n",
       "      <td>16.7</td>\n",
       "      <td>22.9</td>\n",
       "      <td>15.9</td>\n",
       "    </tr>\n",
       "    <tr>\n",
       "      <th>70</th>\n",
       "      <td>216.8</td>\n",
       "      <td>43.9</td>\n",
       "      <td>27.2</td>\n",
       "      <td>22.3</td>\n",
       "    </tr>\n",
       "    <tr>\n",
       "      <th>69</th>\n",
       "      <td>237.4</td>\n",
       "      <td>27.5</td>\n",
       "      <td>11.0</td>\n",
       "      <td>18.9</td>\n",
       "    </tr>\n",
       "  </tbody>\n",
       "</table>\n",
       "</div>"
      ]
     },
     "execution_count": 7,
     "metadata": {},
     "output_type": "execute_result"
    }
   ],
   "execution_count": 7
  },
  {
   "cell_type": "code",
   "metadata": {
    "ExecuteTime": {
     "end_time": "2025-01-15T03:44:19.940954Z",
     "start_time": "2025-01-15T03:44:19.937751Z"
    }
   },
   "source": [
    "advertising_data.shape"
   ],
   "outputs": [
    {
     "data": {
      "text/plain": [
       "(200, 4)"
      ]
     },
     "execution_count": 8,
     "metadata": {},
     "output_type": "execute_result"
    }
   ],
   "execution_count": 8
  },
  {
   "cell_type": "markdown",
   "metadata": {},
   "source": [
    "### Scaling the continuous values"
   ]
  },
  {
   "cell_type": "code",
   "metadata": {
    "ExecuteTime": {
     "end_time": "2025-01-15T03:47:53.293389Z",
     "start_time": "2025-01-15T03:47:52.595784Z"
    }
   },
   "source": [
    "from sklearn import preprocessing\n",
    "advertising_data[['TV']] = preprocessing.scale(advertising_data[['TV']])\n",
    "advertising_data[['radio']] = preprocessing.scale(advertising_data[['radio']])\n",
    "advertising_data[['newspaper']] = preprocessing.scale(advertising_data[['newspaper']])\n",
    "advertising_data.sample(10)"
   ],
   "outputs": [
    {
     "data": {
      "text/plain": [
       "           TV     radio  newspaper  sales\n",
       "28   1.086621 -0.443225  -0.352328   15.9\n",
       "149 -1.273276  1.150331  -0.858677   10.9\n",
       "170  1.602739 -0.855118  -1.111852   15.0\n",
       "37   1.399561  1.386664  -1.176297   25.4\n",
       "68  -0.090408 -0.591776  -0.936932   13.4\n",
       "124 -0.279574  0.765447  -0.835662   15.2\n",
       "94   1.212731  0.893742   1.921644   22.2\n",
       "99   1.665794  1.285378   0.950373   25.4\n",
       "110  1.265277  0.245516  -1.153281   19.8\n",
       "74  -0.206009 -1.185984   0.034340   11.0"
      ],
      "text/html": [
       "<div>\n",
       "<style scoped>\n",
       "    .dataframe tbody tr th:only-of-type {\n",
       "        vertical-align: middle;\n",
       "    }\n",
       "\n",
       "    .dataframe tbody tr th {\n",
       "        vertical-align: top;\n",
       "    }\n",
       "\n",
       "    .dataframe thead th {\n",
       "        text-align: right;\n",
       "    }\n",
       "</style>\n",
       "<table border=\"1\" class=\"dataframe\">\n",
       "  <thead>\n",
       "    <tr style=\"text-align: right;\">\n",
       "      <th></th>\n",
       "      <th>TV</th>\n",
       "      <th>radio</th>\n",
       "      <th>newspaper</th>\n",
       "      <th>sales</th>\n",
       "    </tr>\n",
       "  </thead>\n",
       "  <tbody>\n",
       "    <tr>\n",
       "      <th>28</th>\n",
       "      <td>1.086621</td>\n",
       "      <td>-0.443225</td>\n",
       "      <td>-0.352328</td>\n",
       "      <td>15.9</td>\n",
       "    </tr>\n",
       "    <tr>\n",
       "      <th>149</th>\n",
       "      <td>-1.273276</td>\n",
       "      <td>1.150331</td>\n",
       "      <td>-0.858677</td>\n",
       "      <td>10.9</td>\n",
       "    </tr>\n",
       "    <tr>\n",
       "      <th>170</th>\n",
       "      <td>1.602739</td>\n",
       "      <td>-0.855118</td>\n",
       "      <td>-1.111852</td>\n",
       "      <td>15.0</td>\n",
       "    </tr>\n",
       "    <tr>\n",
       "      <th>37</th>\n",
       "      <td>1.399561</td>\n",
       "      <td>1.386664</td>\n",
       "      <td>-1.176297</td>\n",
       "      <td>25.4</td>\n",
       "    </tr>\n",
       "    <tr>\n",
       "      <th>68</th>\n",
       "      <td>-0.090408</td>\n",
       "      <td>-0.591776</td>\n",
       "      <td>-0.936932</td>\n",
       "      <td>13.4</td>\n",
       "    </tr>\n",
       "    <tr>\n",
       "      <th>124</th>\n",
       "      <td>-0.279574</td>\n",
       "      <td>0.765447</td>\n",
       "      <td>-0.835662</td>\n",
       "      <td>15.2</td>\n",
       "    </tr>\n",
       "    <tr>\n",
       "      <th>94</th>\n",
       "      <td>1.212731</td>\n",
       "      <td>0.893742</td>\n",
       "      <td>1.921644</td>\n",
       "      <td>22.2</td>\n",
       "    </tr>\n",
       "    <tr>\n",
       "      <th>99</th>\n",
       "      <td>1.665794</td>\n",
       "      <td>1.285378</td>\n",
       "      <td>0.950373</td>\n",
       "      <td>25.4</td>\n",
       "    </tr>\n",
       "    <tr>\n",
       "      <th>110</th>\n",
       "      <td>1.265277</td>\n",
       "      <td>0.245516</td>\n",
       "      <td>-1.153281</td>\n",
       "      <td>19.8</td>\n",
       "    </tr>\n",
       "    <tr>\n",
       "      <th>74</th>\n",
       "      <td>-0.206009</td>\n",
       "      <td>-1.185984</td>\n",
       "      <td>0.034340</td>\n",
       "      <td>11.0</td>\n",
       "    </tr>\n",
       "  </tbody>\n",
       "</table>\n",
       "</div>"
      ]
     },
     "execution_count": 9,
     "metadata": {},
     "output_type": "execute_result"
    }
   ],
   "execution_count": 9
  },
  {
   "cell_type": "code",
   "metadata": {
    "ExecuteTime": {
     "end_time": "2025-01-15T03:49:42.397713Z",
     "start_time": "2025-01-15T03:49:42.394751Z"
    }
   },
   "source": [
    "X = advertising_data.drop('sales', axis=1)\n",
    "Y = advertising_data[['sales']]"
   ],
   "outputs": [],
   "execution_count": 11
  },
  {
   "cell_type": "markdown",
   "metadata": {},
   "source": [
    "#### Split the data into two chunks - 80% for training and 20% for testing "
   ]
  },
  {
   "cell_type": "code",
   "metadata": {
    "ExecuteTime": {
     "end_time": "2025-01-15T03:49:49.250624Z",
     "start_time": "2025-01-15T03:49:49.117314Z"
    }
   },
   "source": [
    "from sklearn.model_selection import train_test_split\n",
    "\n",
    "x_train, x_test, y_train, y_test = train_test_split(X, Y, test_size=0.2, random_state=0)"
   ],
   "outputs": [],
   "execution_count": 12
  },
  {
   "cell_type": "code",
   "metadata": {
    "ExecuteTime": {
     "end_time": "2025-01-15T03:49:54.368416Z",
     "start_time": "2025-01-15T03:49:54.365792Z"
    }
   },
   "source": [
    "x_train.shape, y_train.shape"
   ],
   "outputs": [
    {
     "data": {
      "text/plain": [
       "((160, 3), (160, 1))"
      ]
     },
     "execution_count": 13,
     "metadata": {},
     "output_type": "execute_result"
    }
   ],
   "execution_count": 13
  },
  {
   "cell_type": "code",
   "metadata": {
    "ExecuteTime": {
     "end_time": "2025-01-15T03:49:55.306317Z",
     "start_time": "2025-01-15T03:49:55.303345Z"
    }
   },
   "source": [
    "x_test.shape, y_test.shape"
   ],
   "outputs": [
    {
     "data": {
      "text/plain": [
       "((40, 3), (40, 1))"
      ]
     },
     "execution_count": 14,
     "metadata": {},
     "output_type": "execute_result"
    }
   ],
   "execution_count": 14
  },
  {
   "cell_type": "markdown",
   "metadata": {},
   "source": [
    "#### Converting data in pytorch tensors"
   ]
  },
  {
   "metadata": {
    "ExecuteTime": {
     "end_time": "2025-01-15T03:51:11.036431Z",
     "start_time": "2025-01-15T03:51:11.033749Z"
    }
   },
   "cell_type": "code",
   "source": [
    "import torch\n",
    "\n",
    "x_train_tensor = torch.tensor(x_train.values, dtype = torch.float)\n",
    "x_test_tensor = torch.tensor(x_test.values, dtype = torch.float)\n",
    "\n",
    "y_train_tensor = torch.tensor(y_train.values, dtype = torch.float)\n",
    "y_test_tensor = torch.tensor(y_test.values, dtype = torch.float)"
   ],
   "outputs": [],
   "execution_count": 15
  },
  {
   "cell_type": "code",
   "metadata": {
    "ExecuteTime": {
     "end_time": "2025-01-15T03:51:12.973775Z",
     "start_time": "2025-01-15T03:51:12.971546Z"
    }
   },
   "source": [
    "x_train_tensor.shape, y_train_tensor.shape"
   ],
   "outputs": [
    {
     "data": {
      "text/plain": [
       "(torch.Size([160, 3]), torch.Size([160, 1]))"
      ]
     },
     "execution_count": 16,
     "metadata": {},
     "output_type": "execute_result"
    }
   ],
   "execution_count": 16
  },
  {
   "cell_type": "code",
   "metadata": {
    "ExecuteTime": {
     "end_time": "2025-01-15T03:51:14.738946Z",
     "start_time": "2025-01-15T03:51:14.736645Z"
    }
   },
   "source": [
    "x_test_tensor.shape, y_test_tensor.shape"
   ],
   "outputs": [
    {
     "data": {
      "text/plain": [
       "(torch.Size([40, 3]), torch.Size([40, 1]))"
      ]
     },
     "execution_count": 17,
     "metadata": {},
     "output_type": "execute_result"
    }
   ],
   "execution_count": 17
  },
  {
   "cell_type": "markdown",
   "metadata": {},
   "source": [
    "#### Define the parameters for the neural network\n",
    "* <b>inp</b> sets the input size to 26 to match the shape of the X_train_tensor. With the one-hot-encoding, we have multiple columns in our X data\n",
    "* <b>out</b> will be used to set the size of the output from the neural network. We only predict a single price for each car, so this will be 1\n",
    "* <b>hid</b> is used to set the number of hidden layers in our neural network\n",
    "* <b>loss_fn</b> is MSELoss since we're performing a linear regression\n",
    "* <b>learning_rate</b> is set to 0.0001"
   ]
  },
  {
   "cell_type": "code",
   "metadata": {
    "ExecuteTime": {
     "end_time": "2025-01-15T03:55:41.855331Z",
     "start_time": "2025-01-15T03:55:41.853146Z"
    }
   },
   "source": [
    "inp = 3\n",
    "out = 1\n",
    "\n",
    "hid = 100\n",
    "\n",
    "loss_fn = torch.nn.MSELoss()\n",
    "\n",
    "learning_rate = 0.0001"
   ],
   "outputs": [],
   "execution_count": 18
  },
  {
   "cell_type": "markdown",
   "metadata": {},
   "source": [
    "<b>nn.Sequential:</b>\n",
    "Use the nn package to define our model as a sequence of layers. nn.Sequential is a Module which contains other Modules, and applies them in sequence to produce its output. Each Linear Module computes output from input using a linear function, and holds internal Tensors for its weight and bias.\n",
    "\n",
    "<b>nn.Linear: </b> Applies a linear transformation to the incoming data: y=Ax+b<br>\n",
    "parameters:<br>\n",
    "in_features – size of each input sample\n",
    "out_features – size of each output sample\n",
    "bias – If set to False, the layer will not learn an additive bias. Default: True\n",
    "\n",
    "<b>Sigmoid : </b>Applies the element-wise function Sigmoid(x)= 1 / (1+exp(−x))\n",
    "\n",
    "#### Creating model using nn.Sequential( )"
   ]
  },
  {
   "cell_type": "code",
   "metadata": {
    "ExecuteTime": {
     "end_time": "2025-01-15T03:57:17.845512Z",
     "start_time": "2025-01-15T03:57:17.842804Z"
    }
   },
   "source": [
    "model = torch.nn.Sequential(torch.nn.Linear(inp, hid),\n",
    "                            torch.nn.ReLU(),\n",
    "                            torch.nn.Linear(hid, out))"
   ],
   "outputs": [],
   "execution_count": 19
  },
  {
   "cell_type": "code",
   "metadata": {
    "ExecuteTime": {
     "end_time": "2025-01-15T03:57:45.620212Z",
     "start_time": "2025-01-15T03:57:44.322860Z"
    }
   },
   "source": [
    "import torch.optim as optim\n",
    "\n",
    "optimizer = optim.Adam(model.parameters(), lr=learning_rate)"
   ],
   "outputs": [],
   "execution_count": 20
  },
  {
   "cell_type": "markdown",
   "metadata": {},
   "source": [
    "##### Training Model\n",
    "Foward Pass:\n",
    "* Predicting Y with input data X\n",
    "\n",
    "Finding Loss:\n",
    "* Finding difference between Y_train_tensor and Y_pred using MSEloss function defined above\n",
    "\n",
    "\n",
    "Back Propogation:\n",
    "* starting with zero gradients before back propogation\n",
    "* back propogation is done by simply loss.backward() function\n",
    "\n",
    "Manually updating model parameters\n",
    "* weights have requires_grad=True, but we don't need to track this in autograd. So will wrap it in torch.no_grad\n",
    "* model.parameter() returns all the weights and biases of parameters\n",
    "* reducing weight with multiple of learning rate and gradient"
   ]
  },
  {
   "cell_type": "code",
   "metadata": {
    "ExecuteTime": {
     "end_time": "2025-01-15T03:59:43.758537Z",
     "start_time": "2025-01-15T03:59:41.231823Z"
    }
   },
   "source": [
    "for iter in range(10000):\n",
    "    \n",
    "    y_pred = model(x_train_tensor)\n",
    "    loss = loss_fn(y_pred, y_train_tensor)\n",
    "\n",
    "    if iter % 1000 ==0:\n",
    "        print(iter, loss.item())\n",
    "    \n",
    "    optimizer.zero_grad()\n",
    "    loss.backward()\n",
    "    \n",
    "    optimizer.step()"
   ],
   "outputs": [
    {
     "name": "stdout",
     "output_type": "stream",
     "text": [
      "0 229.0796661376953\n",
      "1000 137.50531005859375\n",
      "2000 45.6946907043457\n",
      "3000 11.932679176330566\n",
      "4000 7.6808929443359375\n",
      "5000 5.677643775939941\n",
      "6000 3.8445937633514404\n",
      "7000 2.349801540374756\n",
      "8000 1.286824107170105\n",
      "9000 0.68259596824646\n"
     ]
    }
   ],
   "execution_count": 21
  },
  {
   "cell_type": "markdown",
   "metadata": {},
   "source": [
    "#### Using our model for predictions\n",
    "We pick one of the ads from the test data set for prediction of sale"
   ]
  },
  {
   "cell_type": "code",
   "metadata": {
    "ExecuteTime": {
     "end_time": "2025-01-15T04:00:00.887266Z",
     "start_time": "2025-01-15T04:00:00.884179Z"
    }
   },
   "source": [
    "sample = x_test.iloc[14]\n",
    "sample"
   ],
   "outputs": [
    {
     "data": {
      "text/plain": [
       "TV          -0.824884\n",
       "radio        0.232011\n",
       "newspaper   -0.379947\n",
       "Name: 81, dtype: float64"
      ]
     },
     "execution_count": 22,
     "metadata": {},
     "output_type": "execute_result"
    }
   ],
   "execution_count": 22
  },
  {
   "cell_type": "markdown",
   "metadata": {},
   "source": [
    "#### We convert these features to a Pytorch tensor"
   ]
  },
  {
   "cell_type": "code",
   "metadata": {
    "ExecuteTime": {
     "end_time": "2025-01-15T04:00:49.217197Z",
     "start_time": "2025-01-15T04:00:49.213843Z"
    }
   },
   "source": [
    "sample_tensor = torch.tensor(sample.values, \n",
    "                             dtype = torch.float)\n",
    "sample_tensor"
   ],
   "outputs": [
    {
     "data": {
      "text/plain": [
       "tensor([-0.8249,  0.2320, -0.3799])"
      ]
     },
     "execution_count": 23,
     "metadata": {},
     "output_type": "execute_result"
    }
   ],
   "execution_count": 23
  },
  {
   "cell_type": "markdown",
   "metadata": {},
   "source": [
    "#### Compare the actual and predicted sale\n",
    "The predicted sale is very close to its actual sale"
   ]
  },
  {
   "cell_type": "code",
   "metadata": {
    "ExecuteTime": {
     "end_time": "2025-01-15T04:38:33.354652Z",
     "start_time": "2025-01-15T04:38:33.343211Z"
    }
   },
   "source": [
    "y_pred = model(sample_tensor)\n",
    "\n",
    "print(\"Predicted sale : \", int(y_pred.item()))\n",
    "print(\"Actual sale : \", int(y_test.iloc[14]))"
   ],
   "outputs": [
    {
     "name": "stdout",
     "output_type": "stream",
     "text": [
      "Predicted sale :  11\n",
      "Actual sale :  11\n"
     ]
    },
    {
     "name": "stderr",
     "output_type": "stream",
     "text": [
      "/var/folders/4_/m67_gcp907vdt1vmpgkm7018j_hrx9/T/ipykernel_91604/2752634979.py:4: FutureWarning: Calling int on a single element Series is deprecated and will raise a TypeError in the future. Use int(ser.iloc[0]) instead\n",
      "  print(\"Actual sale : \", int(y_test.iloc[14]))\n"
     ]
    }
   ],
   "execution_count": 25
  },
  {
   "cell_type": "markdown",
   "metadata": {},
   "source": [
    "#### Performing predictions on the entire test set\n",
    "We get the list of predicted values in a tensor"
   ]
  },
  {
   "cell_type": "code",
   "metadata": {
    "ExecuteTime": {
     "end_time": "2025-01-15T04:38:55.883734Z",
     "start_time": "2025-01-15T04:38:55.879430Z"
    }
   },
   "source": [
    "y_pred_tensor = model(x_test_tensor)\n",
    "\n",
    "y_pred_tensor[:5]"
   ],
   "outputs": [
    {
     "data": {
      "text/plain": [
       "tensor([[10.0046],\n",
       "        [ 8.3731],\n",
       "        [ 9.2532],\n",
       "        [25.5612],\n",
       "        [11.4993]], grad_fn=<SliceBackward0>)"
      ]
     },
     "execution_count": 26,
     "metadata": {},
     "output_type": "execute_result"
    }
   ],
   "execution_count": 26
  },
  {
   "cell_type": "markdown",
   "metadata": {},
   "source": [
    "#### The tensor is converted to a numpy array"
   ]
  },
  {
   "cell_type": "code",
   "metadata": {
    "ExecuteTime": {
     "end_time": "2025-01-15T04:39:07.032978Z",
     "start_time": "2025-01-15T04:39:07.029980Z"
    }
   },
   "source": [
    "y_pred = y_pred_tensor.detach().numpy()\n",
    "\n",
    "y_pred[:5]"
   ],
   "outputs": [
    {
     "data": {
      "text/plain": [
       "array([[10.004571],\n",
       "       [ 8.373138],\n",
       "       [ 9.253177],\n",
       "       [25.561216],\n",
       "       [11.499282]], dtype=float32)"
      ]
     },
     "execution_count": 27,
     "metadata": {},
     "output_type": "execute_result"
    }
   ],
   "execution_count": 27
  },
  {
   "cell_type": "markdown",
   "metadata": {},
   "source": [
    "#### Plot a graph of the predicted values against the actual ones \n",
    "The good news is there appears to be a strong positive correlation "
   ]
  },
  {
   "cell_type": "code",
   "metadata": {
    "ExecuteTime": {
     "end_time": "2025-01-15T04:39:36.167116Z",
     "start_time": "2025-01-15T04:39:35.951315Z"
    }
   },
   "source": [
    "plt.figure(figsize=(15, 8))\n",
    "\n",
    "plt.scatter(y_pred, y_test.values)\n",
    "\n",
    "plt.xlabel(\"Actual Sale\")\n",
    "plt.ylabel(\"Predicted Sale\")\n",
    "\n",
    "plt.title(\"Predicted Sale vs Actual Sale\")\n",
    "plt.show()"
   ],
   "outputs": [
    {
     "data": {
      "text/plain": [
       "<Figure size 1500x800 with 1 Axes>"
      ],
      "image/png": "[encoded data removed]"
     },
     "metadata": {},
     "output_type": "display_data"
    }
   ],
   "execution_count": 28
  },
  {
   "cell_type": "code",
   "metadata": {
    "ExecuteTime": {
     "end_time": "2025-01-15T04:40:16.198496Z",
     "start_time": "2025-01-15T04:40:16.194041Z"
    }
   },
   "source": [
    "from sklearn.metrics import r2_score\n",
    "\n",
    "r2_score(y_test, y_pred)"
   ],
   "outputs": [
    {
     "data": {
      "text/plain": [
       "0.9529173970222473"
      ]
     },
     "execution_count": 29,
     "metadata": {},
     "output_type": "execute_result"
    }
   ],
   "execution_count": 29
  },
  {
   "cell_type": "code",
   "execution_count": null,
   "metadata": {},
   "outputs": [],
   "source": []
  },
  {
   "cell_type": "code",
   "execution_count": null,
   "metadata": {},
   "outputs": [],
   "source": []
  },
  {
   "cell_type": "code",
   "execution_count": null,
   "metadata": {},
   "outputs": [],
   "source": []
  },
  {
   "cell_type": "code",
   "execution_count": null,
   "metadata": {},
   "outputs": [],
   "source": []
  },
  {
   "cell_type": "code",
   "execution_count": null,
   "metadata": {},
   "outputs": [],
   "source": []
  },
  {
   "cell_type": "code",
   "execution_count": null,
   "metadata": {},
   "outputs": [],
   "source": []
  },
  {
   "cell_type": "code",
   "execution_count": null,
   "metadata": {},
   "outputs": [],
   "source": []
  },
  {
   "cell_type": "code",
   "execution_count": null,
   "metadata": {},
   "outputs": [],
   "source": []
  },
  {
   "cell_type": "code",
   "execution_count": null,
   "metadata": {},
   "outputs": [],
   "source": []
  },
  {
   "cell_type": "code",
   "execution_count": null,
   "metadata": {},
   "outputs": [],
   "source": []
  },
  {
   "cell_type": "code",
   "execution_count": null,
   "metadata": {},
   "outputs": [],
   "source": []
  },
  {
   "cell_type": "code",
   "execution_count": null,
   "metadata": {},
   "outputs": [],
   "source": []
  },
  {
   "cell_type": "code",
   "execution_count": null,
   "metadata": {},
   "outputs": [],
   "source": []
  }
 ],
 "metadata": {
  "kernelspec": {
   "display_name": "Python 3",
   "language": "python",
   "name": "python3"
  },
  "language_info": {
   "codemirror_mode": {
    "name": "ipython",
    "version": 3
   },
   "file_extension": ".py",
   "mimetype": "text/x-python",
   "name": "python",
   "nbconvert_exporter": "python",
   "pygments_lexer": "ipython3",
   "version": "3.6.4"
  }
 },
 "nbformat": 4,
 "nbformat_minor": 2
}
