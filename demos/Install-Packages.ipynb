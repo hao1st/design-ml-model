{
 "cells": [
  {
   "cell_type": "code",
   "id": "initial_id",
   "metadata": {
    "collapsed": true,
    "ExecuteTime": {
     "end_time": "2025-01-15T03:31:48.981846Z",
     "start_time": "2025-01-15T03:31:48.799004Z"
    }
   },
   "source": "!python --version",
   "outputs": [
    {
     "name": "stdout",
     "output_type": "stream",
     "text": [
      "Python 3.12.8\r\n"
     ]
    }
   ],
   "execution_count": 1
  },
  {
   "metadata": {
    "ExecuteTime": {
     "end_time": "2025-01-15T03:31:52.547361Z",
     "start_time": "2025-01-15T03:31:50.836091Z"
    }
   },
   "cell_type": "code",
   "source": "!pip install --upgrade pip",
   "id": "92481ea880a39ed6",
   "outputs": [
    {
     "name": "stdout",
     "output_type": "stream",
     "text": [
      "Requirement already satisfied: pip in /Users/hxliu4/hao/designing-machine-learning-model/venv/lib/python3.12/site-packages (24.3.1)\r\n"
     ]
    }
   ],
   "execution_count": 2
  },
  {
   "metadata": {
    "ExecuteTime": {
     "end_time": "2025-01-15T03:32:13.613034Z",
     "start_time": "2025-01-15T03:31:53.508453Z"
    }
   },
   "cell_type": "code",
   "source": "!pip install -U scikit-learn pandas matplotlib seaborn statsmodels torch torchvision torchaudio",
   "id": "f50d706ffc84cd1d",
   "outputs": [
    {
     "name": "stdout",
     "output_type": "stream",
     "text": [
      "Requirement already satisfied: scikit-learn in /Users/hxliu4/hao/designing-machine-learning-model/venv/lib/python3.12/site-packages (1.6.1)\r\n",
      "Requirement already satisfied: pandas in /Users/hxliu4/hao/designing-machine-learning-model/venv/lib/python3.12/site-packages (2.2.3)\r\n",
      "Requirement already satisfied: matplotlib in /Users/hxliu4/hao/designing-machine-learning-model/venv/lib/python3.12/site-packages (3.10.0)\r\n",
      "Collecting seaborn\r\n",
      "  Using cached seaborn-0.13.2-py3-none-any.whl.metadata (5.4 kB)\r\n",
      "Collecting statsmodels\r\n",
      "  Downloading statsmodels-0.14.4-cp312-cp312-macosx_11_0_arm64.whl.metadata (9.2 kB)\r\n",
      "Requirement already satisfied: torch in /Users/hxliu4/hao/designing-machine-learning-model/venv/lib/python3.12/site-packages (2.5.1)\r\n",
      "Requirement already satisfied: torchvision in /Users/hxliu4/hao/designing-machine-learning-model/venv/lib/python3.12/site-packages (0.20.1)\r\n",
      "Requirement already satisfied: torchaudio in /Users/hxliu4/hao/designing-machine-learning-model/venv/lib/python3.12/site-packages (2.5.1)\r\n",
      "Requirement already satisfied: numpy>=1.19.5 in /Users/hxliu4/hao/designing-machine-learning-model/venv/lib/python3.12/site-packages (from scikit-learn) (2.2.1)\r\n",
      "Requirement already satisfied: scipy>=1.6.0 in /Users/hxliu4/hao/designing-machine-learning-model/venv/lib/python3.12/site-packages (from scikit-learn) (1.15.1)\r\n",
      "Requirement already satisfied: joblib>=1.2.0 in /Users/hxliu4/hao/designing-machine-learning-model/venv/lib/python3.12/site-packages (from scikit-learn) (1.4.2)\r\n",
      "Requirement already satisfied: threadpoolctl>=3.1.0 in /Users/hxliu4/hao/designing-machine-learning-model/venv/lib/python3.12/site-packages (from scikit-learn) (3.5.0)\r\n",
      "Requirement already satisfied: python-dateutil>=2.8.2 in /Users/hxliu4/hao/designing-machine-learning-model/venv/lib/python3.12/site-packages (from pandas) (2.9.0.post0)\r\n",
      "Requirement already satisfied: pytz>=2020.1 in /Users/hxliu4/hao/designing-machine-learning-model/venv/lib/python3.12/site-packages (from pandas) (2024.2)\r\n",
      "Requirement already satisfied: tzdata>=2022.7 in /Users/hxliu4/hao/designing-machine-learning-model/venv/lib/python3.12/site-packages (from pandas) (2024.2)\r\n",
      "Requirement already satisfied: contourpy>=1.0.1 in /Users/hxliu4/hao/designing-machine-learning-model/venv/lib/python3.12/site-packages (from matplotlib) (1.3.1)\r\n",
      "Requirement already satisfied: cycler>=0.10 in /Users/hxliu4/hao/designing-machine-learning-model/venv/lib/python3.12/site-packages (from matplotlib) (0.12.1)\r\n",
      "Requirement already satisfied: fonttools>=4.22.0 in /Users/hxliu4/hao/designing-machine-learning-model/venv/lib/python3.12/site-packages (from matplotlib) (4.55.3)\r\n",
      "Requirement already satisfied: kiwisolver>=1.3.1 in /Users/hxliu4/hao/designing-machine-learning-model/venv/lib/python3.12/site-packages (from matplotlib) (1.4.8)\r\n",
      "Requirement already satisfied: packaging>=20.0 in /Users/hxliu4/hao/designing-machine-learning-model/venv/lib/python3.12/site-packages (from matplotlib) (24.2)\r\n",
      "Requirement already satisfied: pillow>=8 in /Users/hxliu4/hao/designing-machine-learning-model/venv/lib/python3.12/site-packages (from matplotlib) (11.1.0)\r\n",
      "Requirement already satisfied: pyparsing>=2.3.1 in /Users/hxliu4/hao/designing-machine-learning-model/venv/lib/python3.12/site-packages (from matplotlib) (3.2.1)\r\n",
      "Collecting patsy>=0.5.6 (from statsmodels)\r\n",
      "  Using cached patsy-1.0.1-py2.py3-none-any.whl.metadata (3.3 kB)\r\n",
      "Requirement already satisfied: filelock in /Users/hxliu4/hao/designing-machine-learning-model/venv/lib/python3.12/site-packages (from torch) (3.16.1)\r\n",
      "Requirement already satisfied: typing-extensions>=4.8.0 in /Users/hxliu4/hao/designing-machine-learning-model/venv/lib/python3.12/site-packages (from torch) (4.12.2)\r\n",
      "Requirement already satisfied: networkx in /Users/hxliu4/hao/designing-machine-learning-model/venv/lib/python3.12/site-packages (from torch) (3.4.2)\r\n",
      "Requirement already satisfied: jinja2 in /Users/hxliu4/hao/designing-machine-learning-model/venv/lib/python3.12/site-packages (from torch) (3.1.5)\r\n",
      "Requirement already satisfied: fsspec in /Users/hxliu4/hao/designing-machine-learning-model/venv/lib/python3.12/site-packages (from torch) (2024.12.0)\r\n",
      "Requirement already satisfied: setuptools in /Users/hxliu4/hao/designing-machine-learning-model/venv/lib/python3.12/site-packages (from torch) (75.8.0)\r\n",
      "Requirement already satisfied: sympy==1.13.1 in /Users/hxliu4/hao/designing-machine-learning-model/venv/lib/python3.12/site-packages (from torch) (1.13.1)\r\n",
      "Requirement already satisfied: mpmath<1.4,>=1.1.0 in /Users/hxliu4/hao/designing-machine-learning-model/venv/lib/python3.12/site-packages (from sympy==1.13.1->torch) (1.3.0)\r\n",
      "Requirement already satisfied: six>=1.5 in /Users/hxliu4/hao/designing-machine-learning-model/venv/lib/python3.12/site-packages (from python-dateutil>=2.8.2->pandas) (1.17.0)\r\n",
      "Requirement already satisfied: MarkupSafe>=2.0 in /Users/hxliu4/hao/designing-machine-learning-model/venv/lib/python3.12/site-packages (from jinja2->torch) (3.0.2)\r\n",
      "Using cached seaborn-0.13.2-py3-none-any.whl (294 kB)\r\n",
      "Downloading statsmodels-0.14.4-cp312-cp312-macosx_11_0_arm64.whl (9.9 MB)\r\n",
      "\u001B[2K   \u001B[90m━━━━━━━━━━━━━━━━━━━━━━━━━━━━━━━━━━━━━━━━\u001B[0m \u001B[32m9.9/9.9 MB\u001B[0m \u001B[31m1.1 MB/s\u001B[0m eta \u001B[36m0:00:00\u001B[0m00:01\u001B[0m00:01\u001B[0m\r\n",
      "\u001B[?25hUsing cached patsy-1.0.1-py2.py3-none-any.whl (232 kB)\r\n",
      "Installing collected packages: patsy, statsmodels, seaborn\r\n",
      "Successfully installed patsy-1.0.1 seaborn-0.13.2 statsmodels-0.14.4\r\n"
     ]
    }
   ],
   "execution_count": 3
  },
  {
   "metadata": {
    "ExecuteTime": {
     "end_time": "2025-01-15T03:33:24.037286Z",
     "start_time": "2025-01-15T03:33:01.733661Z"
    }
   },
   "cell_type": "code",
   "source": [
    "import sklearn\n",
    "import torch\n",
    "\n",
    "print(sklearn.__version__)\n",
    "print(torch.__version__)"
   ],
   "id": "665c09fa74d092ea",
   "outputs": [
    {
     "name": "stdout",
     "output_type": "stream",
     "text": [
      "1.6.1\n",
      "2.5.1\n"
     ]
    }
   ],
   "execution_count": 4
  }
 ],
 "metadata": {
  "kernelspec": {
   "display_name": "Python 3",
   "language": "python",
   "name": "python3"
  },
  "language_info": {
   "codemirror_mode": {
    "name": "ipython",
    "version": 2
   },
   "file_extension": ".py",
   "mimetype": "text/x-python",
   "name": "python",
   "nbconvert_exporter": "python",
   "pygments_lexer": "ipython2",
   "version": "2.7.6"
  }
 },
 "nbformat": 4,
 "nbformat_minor": 5
}
