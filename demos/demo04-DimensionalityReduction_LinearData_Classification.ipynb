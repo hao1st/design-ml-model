{
 "cells": [
  {
   "cell_type": "markdown",
   "metadata": {},
   "source": [
    "### Importing libraries"
   ]
  },
  {
   "cell_type": "code",
   "metadata": {
    "ExecuteTime": {
     "end_time": "2025-01-15T04:49:16.368874Z",
     "start_time": "2025-01-15T04:49:16.367193Z"
    }
   },
   "source": [
    "import pandas as pd\n",
    "import numpy as np\n",
    "\n",
    "import matplotlib.pyplot as plt"
   ],
   "outputs": [],
   "execution_count": 2
  },
  {
   "cell_type": "code",
   "metadata": {
    "ExecuteTime": {
     "end_time": "2025-01-15T04:49:19.220726Z",
     "start_time": "2025-01-15T04:49:19.205983Z"
    }
   },
   "source": [
    "diabetes_data = pd.read_csv('dataset/PimaIndians_processed.csv')\n",
    "\n",
    "diabetes_data.head(10)"
   ],
   "outputs": [
    {
     "data": {
      "text/plain": [
       "   pregnant   glucose  diastolic   triceps   insulin       bmi  diabetes  \\\n",
       "0 -0.717427 -1.091046  -0.373655 -0.585110 -0.522842 -0.710421 -1.031876   \n",
       "1 -1.029213  0.466314  -2.456964  0.557421  0.100631  1.426730  5.115111   \n",
       "2 -0.093854 -1.447941  -1.655691  0.271788 -0.573394 -0.297238 -0.797126   \n",
       "3 -0.405640  2.413014  -0.053146  1.509530  3.260122 -0.368477 -1.057960   \n",
       "4 -0.717427  2.153454  -0.854419 -0.585110  5.812990 -0.425468 -0.362402   \n",
       "5  0.529718  1.407219   0.107109 -0.965953  0.159608 -1.038117  0.185349   \n",
       "6 -1.029213 -0.150141   1.068636  1.699951  0.623000  1.811417  0.081015   \n",
       "7 -0.717427 -0.636816  -3.258237  0.843053 -0.615520  1.455225 -0.985506   \n",
       "8 -0.717427 -0.247476  -0.053146  0.081366 -0.505991  0.215678  0.017256   \n",
       "9 -0.093854  0.109419   1.389146  1.128686  0.665127  0.885318  0.524433   \n",
       "\n",
       "        age  test  \n",
       "0 -0.968299     0  \n",
       "1  0.209585     1  \n",
       "2 -0.477514     1  \n",
       "3  2.172726     1  \n",
       "4  2.761668     1  \n",
       "5  1.976412     1  \n",
       "6  0.013271     1  \n",
       "7  0.209585     0  \n",
       "8  0.111428     1  \n",
       "9 -0.379357     0  "
      ],
      "text/html": [
       "<div>\n",
       "<style scoped>\n",
       "    .dataframe tbody tr th:only-of-type {\n",
       "        vertical-align: middle;\n",
       "    }\n",
       "\n",
       "    .dataframe tbody tr th {\n",
       "        vertical-align: top;\n",
       "    }\n",
       "\n",
       "    .dataframe thead th {\n",
       "        text-align: right;\n",
       "    }\n",
       "</style>\n",
       "<table border=\"1\" class=\"dataframe\">\n",
       "  <thead>\n",
       "    <tr style=\"text-align: right;\">\n",
       "      <th></th>\n",
       "      <th>pregnant</th>\n",
       "      <th>glucose</th>\n",
       "      <th>diastolic</th>\n",
       "      <th>triceps</th>\n",
       "      <th>insulin</th>\n",
       "      <th>bmi</th>\n",
       "      <th>diabetes</th>\n",
       "      <th>age</th>\n",
       "      <th>test</th>\n",
       "    </tr>\n",
       "  </thead>\n",
       "  <tbody>\n",
       "    <tr>\n",
       "      <th>0</th>\n",
       "      <td>-0.717427</td>\n",
       "      <td>-1.091046</td>\n",
       "      <td>-0.373655</td>\n",
       "      <td>-0.585110</td>\n",
       "      <td>-0.522842</td>\n",
       "      <td>-0.710421</td>\n",
       "      <td>-1.031876</td>\n",
       "      <td>-0.968299</td>\n",
       "      <td>0</td>\n",
       "    </tr>\n",
       "    <tr>\n",
       "      <th>1</th>\n",
       "      <td>-1.029213</td>\n",
       "      <td>0.466314</td>\n",
       "      <td>-2.456964</td>\n",
       "      <td>0.557421</td>\n",
       "      <td>0.100631</td>\n",
       "      <td>1.426730</td>\n",
       "      <td>5.115111</td>\n",
       "      <td>0.209585</td>\n",
       "      <td>1</td>\n",
       "    </tr>\n",
       "    <tr>\n",
       "      <th>2</th>\n",
       "      <td>-0.093854</td>\n",
       "      <td>-1.447941</td>\n",
       "      <td>-1.655691</td>\n",
       "      <td>0.271788</td>\n",
       "      <td>-0.573394</td>\n",
       "      <td>-0.297238</td>\n",
       "      <td>-0.797126</td>\n",
       "      <td>-0.477514</td>\n",
       "      <td>1</td>\n",
       "    </tr>\n",
       "    <tr>\n",
       "      <th>3</th>\n",
       "      <td>-0.405640</td>\n",
       "      <td>2.413014</td>\n",
       "      <td>-0.053146</td>\n",
       "      <td>1.509530</td>\n",
       "      <td>3.260122</td>\n",
       "      <td>-0.368477</td>\n",
       "      <td>-1.057960</td>\n",
       "      <td>2.172726</td>\n",
       "      <td>1</td>\n",
       "    </tr>\n",
       "    <tr>\n",
       "      <th>4</th>\n",
       "      <td>-0.717427</td>\n",
       "      <td>2.153454</td>\n",
       "      <td>-0.854419</td>\n",
       "      <td>-0.585110</td>\n",
       "      <td>5.812990</td>\n",
       "      <td>-0.425468</td>\n",
       "      <td>-0.362402</td>\n",
       "      <td>2.761668</td>\n",
       "      <td>1</td>\n",
       "    </tr>\n",
       "    <tr>\n",
       "      <th>5</th>\n",
       "      <td>0.529718</td>\n",
       "      <td>1.407219</td>\n",
       "      <td>0.107109</td>\n",
       "      <td>-0.965953</td>\n",
       "      <td>0.159608</td>\n",
       "      <td>-1.038117</td>\n",
       "      <td>0.185349</td>\n",
       "      <td>1.976412</td>\n",
       "      <td>1</td>\n",
       "    </tr>\n",
       "    <tr>\n",
       "      <th>6</th>\n",
       "      <td>-1.029213</td>\n",
       "      <td>-0.150141</td>\n",
       "      <td>1.068636</td>\n",
       "      <td>1.699951</td>\n",
       "      <td>0.623000</td>\n",
       "      <td>1.811417</td>\n",
       "      <td>0.081015</td>\n",
       "      <td>0.013271</td>\n",
       "      <td>1</td>\n",
       "    </tr>\n",
       "    <tr>\n",
       "      <th>7</th>\n",
       "      <td>-0.717427</td>\n",
       "      <td>-0.636816</td>\n",
       "      <td>-3.258237</td>\n",
       "      <td>0.843053</td>\n",
       "      <td>-0.615520</td>\n",
       "      <td>1.455225</td>\n",
       "      <td>-0.985506</td>\n",
       "      <td>0.209585</td>\n",
       "      <td>0</td>\n",
       "    </tr>\n",
       "    <tr>\n",
       "      <th>8</th>\n",
       "      <td>-0.717427</td>\n",
       "      <td>-0.247476</td>\n",
       "      <td>-0.053146</td>\n",
       "      <td>0.081366</td>\n",
       "      <td>-0.505991</td>\n",
       "      <td>0.215678</td>\n",
       "      <td>0.017256</td>\n",
       "      <td>0.111428</td>\n",
       "      <td>1</td>\n",
       "    </tr>\n",
       "    <tr>\n",
       "      <th>9</th>\n",
       "      <td>-0.093854</td>\n",
       "      <td>0.109419</td>\n",
       "      <td>1.389146</td>\n",
       "      <td>1.128686</td>\n",
       "      <td>0.665127</td>\n",
       "      <td>0.885318</td>\n",
       "      <td>0.524433</td>\n",
       "      <td>-0.379357</td>\n",
       "      <td>0</td>\n",
       "    </tr>\n",
       "  </tbody>\n",
       "</table>\n",
       "</div>"
      ]
     },
     "execution_count": 3,
     "metadata": {},
     "output_type": "execute_result"
    }
   ],
   "execution_count": 3
  },
  {
   "cell_type": "code",
   "metadata": {
    "ExecuteTime": {
     "end_time": "2025-01-15T04:49:22.352019Z",
     "start_time": "2025-01-15T04:49:22.349370Z"
    }
   },
   "source": [
    "FEATURES = list(diabetes_data.columns[:-1])\n",
    "\n",
    "FEATURES"
   ],
   "outputs": [
    {
     "data": {
      "text/plain": [
       "['pregnant',\n",
       " 'glucose',\n",
       " 'diastolic',\n",
       " 'triceps',\n",
       " 'insulin',\n",
       " 'bmi',\n",
       " 'diabetes',\n",
       " 'age']"
      ]
     },
     "execution_count": 4,
     "metadata": {},
     "output_type": "execute_result"
    }
   ],
   "execution_count": 4
  },
  {
   "cell_type": "markdown",
   "metadata": {},
   "source": [
    "### Apply PCA (Principal component analysis)\n",
    "* PCA: Linear dimensionality reduction using Singular Value Decomposition of the data to project it to a lower dimensional space.\n",
    "* explained_variance_ : The amount of variance explained by each of the selected components.\n",
    "* components_ : Principal axes in feature space, representing the directions of maximum variance in the data.\n",
    "* fit_transform : Fit the model with X and apply the dimensionality reduction on X\n",
    "\n",
    "https://scikit-learn.org/stable/modules/generated/sklearn.decomposition.PCA.html"
   ]
  },
  {
   "cell_type": "code",
   "metadata": {
    "ExecuteTime": {
     "end_time": "2025-01-15T04:49:50.727848Z",
     "start_time": "2025-01-15T04:49:50.427039Z"
    }
   },
   "source": [
    "from sklearn.decomposition import PCA\n",
    "\n",
    "def apply_pca(n):\n",
    "    \n",
    "    pca = PCA(n_components = n) \n",
    "    x_new = pca.fit_transform(diabetes_data[FEATURES])\n",
    "        \n",
    "    return pca, pd.DataFrame(x_new)"
   ],
   "outputs": [],
   "execution_count": 5
  },
  {
   "cell_type": "code",
   "metadata": {
    "ExecuteTime": {
     "end_time": "2025-01-15T04:50:00.695538Z",
     "start_time": "2025-01-15T04:50:00.686947Z"
    }
   },
   "source": [
    "pca_obj, _ = apply_pca(8)"
   ],
   "outputs": [],
   "execution_count": 8
  },
  {
   "cell_type": "code",
   "metadata": {
    "ExecuteTime": {
     "end_time": "2025-01-15T04:50:02.423406Z",
     "start_time": "2025-01-15T04:50:02.421289Z"
    }
   },
   "source": [
    "print(\"Explained Variance:\", pca_obj.explained_variance_ratio_)"
   ],
   "outputs": [
    {
     "name": "stdout",
     "output_type": "stream",
     "text": [
      "Explained Variance: [0.31994031 0.19459756 0.14984544 0.11946188 0.09002175 0.05017765\n",
      " 0.03888422 0.03707119]\n"
     ]
    }
   ],
   "execution_count": 9
  },
  {
   "cell_type": "code",
   "metadata": {
    "ExecuteTime": {
     "end_time": "2025-01-14T04:04:40.524016Z",
     "start_time": "2025-01-14T04:04:40.521292Z"
    }
   },
   "source": [
    "sum(pca_obj.explained_variance_ratio_)"
   ],
   "outputs": [
    {
     "data": {
      "text/plain": [
       "np.float64(1.0)"
      ]
     },
     "execution_count": 11,
     "metadata": {},
     "output_type": "execute_result"
    }
   ],
   "execution_count": 11
  },
  {
   "cell_type": "code",
   "metadata": {
    "ExecuteTime": {
     "end_time": "2025-01-15T04:50:06.369650Z",
     "start_time": "2025-01-15T04:50:06.271721Z"
    }
   },
   "source": [
    "plt.figure(figsize = (8, 8))\n",
    "\n",
    "plt.plot(np.cumsum(pca_obj.explained_variance_ratio_))\n",
    "\n",
    "plt.xlabel('n components')\n",
    "plt.ylabel('cumulative variance');"
   ],
   "outputs": [
    {
     "data": {
      "text/plain": [
       "<Figure size 800x800 with 1 Axes>"
      ],
      "image/png": "[encoded data removed]"
     },
     "metadata": {},
     "output_type": "display_data"
    }
   ],
   "execution_count": 10
  },
  {
   "cell_type": "code",
   "metadata": {
    "ExecuteTime": {
     "end_time": "2025-01-14T04:05:30.058966Z",
     "start_time": "2025-01-14T04:05:30.057121Z"
    }
   },
   "source": [
    "Y = diabetes_data['test']"
   ],
   "outputs": [],
   "execution_count": 13
  },
  {
   "cell_type": "code",
   "metadata": {
    "ExecuteTime": {
     "end_time": "2025-01-14T04:06:06.547783Z",
     "start_time": "2025-01-14T04:06:06.543327Z"
    }
   },
   "source": [
    "_ , X_new = apply_pca(4)"
   ],
   "outputs": [],
   "execution_count": 14
  },
  {
   "cell_type": "code",
   "metadata": {
    "ExecuteTime": {
     "end_time": "2025-01-14T04:06:19.634256Z",
     "start_time": "2025-01-14T04:06:19.629503Z"
    }
   },
   "source": [
    "X_new.sample(10)"
   ],
   "outputs": [
    {
     "data": {
      "text/plain": [
       "            0         1         2         3\n",
       "158 -1.925915  1.782488 -0.227296 -0.567663\n",
       "163 -0.153886 -0.803087  0.334855  0.443864\n",
       "370 -0.332011 -1.409410 -0.054088 -0.747552\n",
       "56  -0.744373 -0.580827 -0.571340 -0.334198\n",
       "380 -1.917783  0.249414  0.545973  0.477738\n",
       "66  -1.944902 -0.544285  0.178123  0.286212\n",
       "265  1.077308  3.596028  0.978230 -0.256659\n",
       "73   2.127168 -2.012108  1.449328 -0.992850\n",
       "175 -2.434325  0.342407  0.202565  0.469868\n",
       "193 -1.981528  0.233149  1.726294  0.909213"
      ],
      "text/html": [
       "<div>\n",
       "<style scoped>\n",
       "    .dataframe tbody tr th:only-of-type {\n",
       "        vertical-align: middle;\n",
       "    }\n",
       "\n",
       "    .dataframe tbody tr th {\n",
       "        vertical-align: top;\n",
       "    }\n",
       "\n",
       "    .dataframe thead th {\n",
       "        text-align: right;\n",
       "    }\n",
       "</style>\n",
       "<table border=\"1\" class=\"dataframe\">\n",
       "  <thead>\n",
       "    <tr style=\"text-align: right;\">\n",
       "      <th></th>\n",
       "      <th>0</th>\n",
       "      <th>1</th>\n",
       "      <th>2</th>\n",
       "      <th>3</th>\n",
       "    </tr>\n",
       "  </thead>\n",
       "  <tbody>\n",
       "    <tr>\n",
       "      <th>158</th>\n",
       "      <td>-1.925915</td>\n",
       "      <td>1.782488</td>\n",
       "      <td>-0.227296</td>\n",
       "      <td>-0.567663</td>\n",
       "    </tr>\n",
       "    <tr>\n",
       "      <th>163</th>\n",
       "      <td>-0.153886</td>\n",
       "      <td>-0.803087</td>\n",
       "      <td>0.334855</td>\n",
       "      <td>0.443864</td>\n",
       "    </tr>\n",
       "    <tr>\n",
       "      <th>370</th>\n",
       "      <td>-0.332011</td>\n",
       "      <td>-1.409410</td>\n",
       "      <td>-0.054088</td>\n",
       "      <td>-0.747552</td>\n",
       "    </tr>\n",
       "    <tr>\n",
       "      <th>56</th>\n",
       "      <td>-0.744373</td>\n",
       "      <td>-0.580827</td>\n",
       "      <td>-0.571340</td>\n",
       "      <td>-0.334198</td>\n",
       "    </tr>\n",
       "    <tr>\n",
       "      <th>380</th>\n",
       "      <td>-1.917783</td>\n",
       "      <td>0.249414</td>\n",
       "      <td>0.545973</td>\n",
       "      <td>0.477738</td>\n",
       "    </tr>\n",
       "    <tr>\n",
       "      <th>66</th>\n",
       "      <td>-1.944902</td>\n",
       "      <td>-0.544285</td>\n",
       "      <td>0.178123</td>\n",
       "      <td>0.286212</td>\n",
       "    </tr>\n",
       "    <tr>\n",
       "      <th>265</th>\n",
       "      <td>1.077308</td>\n",
       "      <td>3.596028</td>\n",
       "      <td>0.978230</td>\n",
       "      <td>-0.256659</td>\n",
       "    </tr>\n",
       "    <tr>\n",
       "      <th>73</th>\n",
       "      <td>2.127168</td>\n",
       "      <td>-2.012108</td>\n",
       "      <td>1.449328</td>\n",
       "      <td>-0.992850</td>\n",
       "    </tr>\n",
       "    <tr>\n",
       "      <th>175</th>\n",
       "      <td>-2.434325</td>\n",
       "      <td>0.342407</td>\n",
       "      <td>0.202565</td>\n",
       "      <td>0.469868</td>\n",
       "    </tr>\n",
       "    <tr>\n",
       "      <th>193</th>\n",
       "      <td>-1.981528</td>\n",
       "      <td>0.233149</td>\n",
       "      <td>1.726294</td>\n",
       "      <td>0.909213</td>\n",
       "    </tr>\n",
       "  </tbody>\n",
       "</table>\n",
       "</div>"
      ]
     },
     "execution_count": 15,
     "metadata": {},
     "output_type": "execute_result"
    }
   ],
   "execution_count": 15
  },
  {
   "cell_type": "code",
   "metadata": {
    "ExecuteTime": {
     "end_time": "2025-01-14T04:06:41.230676Z",
     "start_time": "2025-01-14T04:06:41.228276Z"
    }
   },
   "source": [
    "from sklearn.model_selection import train_test_split\n",
    "\n",
    "x_train, x_test, y_train, y_test = train_test_split(X_new, Y, test_size=0.2)"
   ],
   "outputs": [],
   "execution_count": 16
  },
  {
   "metadata": {
    "ExecuteTime": {
     "end_time": "2025-01-14T04:07:29.230088Z",
     "start_time": "2025-01-14T04:07:29.226796Z"
    }
   },
   "cell_type": "code",
   "outputs": [],
   "execution_count": 20,
   "source": [
    "from sklearn.linear_model import LogisticRegression\n",
    "\n",
    "model = LogisticRegression(solver='liblinear').fit(x_train, y_train)"
   ]
  },
  {
   "metadata": {
    "ExecuteTime": {
     "end_time": "2025-01-14T04:07:34.160635Z",
     "start_time": "2025-01-14T04:07:34.158214Z"
    }
   },
   "cell_type": "code",
   "outputs": [],
   "execution_count": 21,
   "source": "y_pred = model.predict(x_test)"
  },
  {
   "metadata": {
    "ExecuteTime": {
     "end_time": "2025-01-14T04:12:04.294865Z",
     "start_time": "2025-01-14T04:12:04.287680Z"
    }
   },
   "cell_type": "code",
   "source": [
    "pred_results = pd.DataFrame({'y_test': y_test,\n",
    "                             'y_pred': y_pred})\n",
    "\n",
    "pred_results.head(10)"
   ],
   "outputs": [
    {
     "data": {
      "text/plain": [
       "     y_test  y_pred\n",
       "311       0       0\n",
       "260       0       0\n",
       "350       0       0\n",
       "248       1       0\n",
       "49        1       0\n",
       "304       0       0\n",
       "231       0       0\n",
       "257       0       0\n",
       "327       0       0\n",
       "114       0       0"
      ],
      "text/html": [
       "<div>\n",
       "<style scoped>\n",
       "    .dataframe tbody tr th:only-of-type {\n",
       "        vertical-align: middle;\n",
       "    }\n",
       "\n",
       "    .dataframe tbody tr th {\n",
       "        vertical-align: top;\n",
       "    }\n",
       "\n",
       "    .dataframe thead th {\n",
       "        text-align: right;\n",
       "    }\n",
       "</style>\n",
       "<table border=\"1\" class=\"dataframe\">\n",
       "  <thead>\n",
       "    <tr style=\"text-align: right;\">\n",
       "      <th></th>\n",
       "      <th>y_test</th>\n",
       "      <th>y_pred</th>\n",
       "    </tr>\n",
       "  </thead>\n",
       "  <tbody>\n",
       "    <tr>\n",
       "      <th>311</th>\n",
       "      <td>0</td>\n",
       "      <td>0</td>\n",
       "    </tr>\n",
       "    <tr>\n",
       "      <th>260</th>\n",
       "      <td>0</td>\n",
       "      <td>0</td>\n",
       "    </tr>\n",
       "    <tr>\n",
       "      <th>350</th>\n",
       "      <td>0</td>\n",
       "      <td>0</td>\n",
       "    </tr>\n",
       "    <tr>\n",
       "      <th>248</th>\n",
       "      <td>1</td>\n",
       "      <td>0</td>\n",
       "    </tr>\n",
       "    <tr>\n",
       "      <th>49</th>\n",
       "      <td>1</td>\n",
       "      <td>0</td>\n",
       "    </tr>\n",
       "    <tr>\n",
       "      <th>304</th>\n",
       "      <td>0</td>\n",
       "      <td>0</td>\n",
       "    </tr>\n",
       "    <tr>\n",
       "      <th>231</th>\n",
       "      <td>0</td>\n",
       "      <td>0</td>\n",
       "    </tr>\n",
       "    <tr>\n",
       "      <th>257</th>\n",
       "      <td>0</td>\n",
       "      <td>0</td>\n",
       "    </tr>\n",
       "    <tr>\n",
       "      <th>327</th>\n",
       "      <td>0</td>\n",
       "      <td>0</td>\n",
       "    </tr>\n",
       "    <tr>\n",
       "      <th>114</th>\n",
       "      <td>0</td>\n",
       "      <td>0</td>\n",
       "    </tr>\n",
       "  </tbody>\n",
       "</table>\n",
       "</div>"
      ]
     },
     "execution_count": 24,
     "metadata": {},
     "output_type": "execute_result"
    }
   ],
   "execution_count": 24
  },
  {
   "metadata": {
    "ExecuteTime": {
     "end_time": "2025-01-14T04:13:10.084189Z",
     "start_time": "2025-01-14T04:13:10.065054Z"
    }
   },
   "cell_type": "code",
   "source": [
    "diabetes_crosstab = pd.crosstab(pred_results.y_pred, pred_results.y_test)\n",
    "\n",
    "diabetes_crosstab"
   ],
   "outputs": [
    {
     "data": {
      "text/plain": [
       "y_test   0   1\n",
       "y_pred        \n",
       "0       50  10\n",
       "1        7  12"
      ],
      "text/html": [
       "<div>\n",
       "<style scoped>\n",
       "    .dataframe tbody tr th:only-of-type {\n",
       "        vertical-align: middle;\n",
       "    }\n",
       "\n",
       "    .dataframe tbody tr th {\n",
       "        vertical-align: top;\n",
       "    }\n",
       "\n",
       "    .dataframe thead th {\n",
       "        text-align: right;\n",
       "    }\n",
       "</style>\n",
       "<table border=\"1\" class=\"dataframe\">\n",
       "  <thead>\n",
       "    <tr style=\"text-align: right;\">\n",
       "      <th>y_test</th>\n",
       "      <th>0</th>\n",
       "      <th>1</th>\n",
       "    </tr>\n",
       "    <tr>\n",
       "      <th>y_pred</th>\n",
       "      <th></th>\n",
       "      <th></th>\n",
       "    </tr>\n",
       "  </thead>\n",
       "  <tbody>\n",
       "    <tr>\n",
       "      <th>0</th>\n",
       "      <td>50</td>\n",
       "      <td>10</td>\n",
       "    </tr>\n",
       "    <tr>\n",
       "      <th>1</th>\n",
       "      <td>7</td>\n",
       "      <td>12</td>\n",
       "    </tr>\n",
       "  </tbody>\n",
       "</table>\n",
       "</div>"
      ]
     },
     "execution_count": 25,
     "metadata": {},
     "output_type": "execute_result"
    }
   ],
   "execution_count": 25
  },
  {
   "metadata": {
    "ExecuteTime": {
     "end_time": "2025-01-14T04:14:12.661683Z",
     "start_time": "2025-01-14T04:14:12.658730Z"
    }
   },
   "cell_type": "code",
   "source": [
    "TP = diabetes_crosstab[1][1]\n",
    "TN = diabetes_crosstab[0][0]\n",
    "FP = diabetes_crosstab[0][1]\n",
    "FN = diabetes_crosstab[1][0]\n",
    "\n",
    "print(\"True Positives: \", TP)\n",
    "print(\"True Negatives: \", TN)\n",
    "print(\"False Positives: \", FP)\n",
    "print(\"False Negatives: \", FN)\n"
   ],
   "outputs": [
    {
     "name": "stdout",
     "output_type": "stream",
     "text": [
      "True Positives:  12\n",
      "True Negatives:  50\n",
      "False Positives:  7\n",
      "False Negatives:  10\n"
     ]
    }
   ],
   "execution_count": 27
  },
  {
   "metadata": {
    "ExecuteTime": {
     "end_time": "2025-01-14T04:07:41.321078Z",
     "start_time": "2025-01-14T04:07:41.318989Z"
    }
   },
   "cell_type": "code",
   "outputs": [],
   "execution_count": 22,
   "source": "from sklearn.metrics import accuracy_score, recall_score, precision_score"
  },
  {
   "metadata": {
    "ExecuteTime": {
     "end_time": "2025-01-14T04:15:25.855756Z",
     "start_time": "2025-01-14T04:15:25.852723Z"
    }
   },
   "cell_type": "code",
   "source": "accuracy_score(y_test, y_pred)",
   "outputs": [
    {
     "data": {
      "text/plain": [
       "0.7848101265822784"
      ]
     },
     "execution_count": 29,
     "metadata": {},
     "output_type": "execute_result"
    }
   ],
   "execution_count": 29
  },
  {
   "cell_type": "code",
   "metadata": {
    "ExecuteTime": {
     "end_time": "2025-01-14T04:16:26.608455Z",
     "start_time": "2025-01-14T04:16:26.603293Z"
    }
   },
   "source": [
    "precision_score(y_test, y_pred)"
   ],
   "outputs": [
    {
     "data": {
      "text/plain": [
       "0.631578947368421"
      ]
     },
     "execution_count": 32,
     "metadata": {},
     "output_type": "execute_result"
    }
   ],
   "execution_count": 32
  },
  {
   "cell_type": "code",
   "metadata": {
    "ExecuteTime": {
     "end_time": "2025-01-14T04:18:39.199115Z",
     "start_time": "2025-01-14T04:18:39.195141Z"
    }
   },
   "source": [
    "recall_score(y_test, y_pred)"
   ],
   "outputs": [
    {
     "data": {
      "text/plain": [
       "0.5454545454545454"
      ]
     },
     "execution_count": 33,
     "metadata": {},
     "output_type": "execute_result"
    }
   ],
   "execution_count": 33
  },
  {
   "cell_type": "code",
   "execution_count": null,
   "metadata": {},
   "outputs": [],
   "source": []
  },
  {
   "cell_type": "code",
   "execution_count": null,
   "metadata": {},
   "outputs": [],
   "source": []
  },
  {
   "cell_type": "code",
   "execution_count": null,
   "metadata": {},
   "outputs": [],
   "source": []
  },
  {
   "cell_type": "code",
   "execution_count": null,
   "metadata": {},
   "outputs": [],
   "source": []
  },
  {
   "cell_type": "code",
   "execution_count": null,
   "metadata": {},
   "outputs": [],
   "source": []
  },
  {
   "cell_type": "code",
   "execution_count": null,
   "metadata": {},
   "outputs": [],
   "source": []
  },
  {
   "cell_type": "code",
   "execution_count": null,
   "metadata": {},
   "outputs": [],
   "source": []
  },
  {
   "cell_type": "code",
   "execution_count": null,
   "metadata": {},
   "outputs": [],
   "source": []
  },
  {
   "cell_type": "code",
   "execution_count": null,
   "metadata": {},
   "outputs": [],
   "source": []
  },
  {
   "cell_type": "code",
   "execution_count": null,
   "metadata": {},
   "outputs": [],
   "source": []
  },
  {
   "cell_type": "code",
   "execution_count": null,
   "metadata": {},
   "outputs": [],
   "source": []
  },
  {
   "cell_type": "code",
   "execution_count": null,
   "metadata": {},
   "outputs": [],
   "source": []
  },
  {
   "cell_type": "code",
   "execution_count": null,
   "metadata": {},
   "outputs": [],
   "source": []
  }
 ],
 "metadata": {
  "kernelspec": {
   "display_name": "Python 3",
   "language": "python",
   "name": "python3"
  },
  "language_info": {
   "codemirror_mode": {
    "name": "ipython",
    "version": 3
   },
   "file_extension": ".py",
   "mimetype": "text/x-python",
   "name": "python",
   "nbconvert_exporter": "python",
   "pygments_lexer": "ipython3",
   "version": "3.6.4"
  }
 },
 "nbformat": 4,
 "nbformat_minor": 2
}
